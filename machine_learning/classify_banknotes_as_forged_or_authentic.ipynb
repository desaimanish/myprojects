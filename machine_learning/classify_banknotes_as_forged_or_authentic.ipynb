{
 "cells": [
  {
   "cell_type": "markdown",
   "metadata": {},
   "source": [
    "Classification of banknotes as forged or authentic"
   ]
  },
  {
   "cell_type": "code",
   "execution_count": 37,
   "metadata": {},
   "outputs": [],
   "source": [
    "import numpy as np\n",
    "import matplotlib.pyplot as plt\n",
    "import pandas as pd\n",
    "import numpy.linalg as lin\n",
    "import math"
   ]
  },
  {
   "cell_type": "markdown",
   "metadata": {},
   "source": [
    "Perceptron algorithm:"
   ]
  },
  {
   "cell_type": "markdown",
   "metadata": {},
   "source": [
    "algorithm:\n"
   ]
  },
  {
   "cell_type": "markdown",
   "metadata": {},
   "source": [
    "step1: initialize $w = w^(0)$ , $t = 0$ "
   ]
  },
  {
   "cell_type": "markdown",
   "metadata": {},
   "source": [
    "step2: pick some random $(x_n , y_n)$"
   ]
  },
  {
   "cell_type": "markdown",
   "metadata": {},
   "source": [
    " step 3:if current $w $ makes a mistake on $(x_n , y_n)$ i.e., $y_n w^(t)^T X_n<0$ "
   ]
  },
  {
   "cell_type": "markdown",
   "metadata": {},
   "source": [
    "$$w(t+1) = w^(t) + y_n x_n$$"
   ]
  },
  {
   "cell_type": "markdown",
   "metadata": {},
   "source": [
    "$$ t = t+1$$"
   ]
  },
  {
   "cell_type": "markdown",
   "metadata": {},
   "source": [
    "step4: if not converged go to step 3"
   ]
  },
  {
   "cell_type": "code",
   "execution_count": 38,
   "metadata": {},
   "outputs": [],
   "source": [
    "#perceptron\n",
    "#this is the perceptron function here the inputs are \n",
    "#the the training data, initial weights and number of iterations\n",
    "#and returns weight vector w\n",
    "def perceptron(data, init_, n_iter):\n",
    "    w = init_    #initializing the weight vector\n",
    "    for i in range(n_iter):\n",
    "#selection of data randomly from the dataset \n",
    "        random_sample = data[np.random.choice(data.shape[0], size=1, replace=False)][0]\n",
    "    #breaking into features and y\n",
    "        X, y = random_sample[:-1], random_sample[-1]\n",
    "        #checking if y*w.x is less than zero\n",
    "        if(y*np.dot(np.transpose(w), X) < 0):\n",
    "            #if the above condition satisfies then upgrade the weight\n",
    "            w += y*X\n",
    "               \n",
    "    return w\n"
   ]
  },
  {
   "cell_type": "markdown",
   "metadata": {},
   "source": [
    "Functions to make predictions using the algorithm for the banknotes dataset and Preprocessing\n",
    "the dataset to handle missing and anomalous data."
   ]
  },
  {
   "cell_type": "markdown",
   "metadata": {},
   "source": [
    "To make the predictions we can check using $sign(w^T x_* )$"
   ]
  },
  {
   "cell_type": "code",
   "execution_count": 39,
   "metadata": {},
   "outputs": [],
   "source": [
    "dataset = pd.read_csv('databank.csv')\n",
    "z= dataset.isnull().sum()\n",
    "\n",
    "\n",
    "# checking if there are any null data in the dataset\n",
    "z= dataset.isnull().sum()\n",
    "#filling the empty values using mean of the respective feature\n",
    "missing_col = ['variance']\n",
    "for i in missing_col:\n",
    " dataset.loc[dataset.loc[:,i].isnull(),i]=dataset.loc[:,i].mean()\n",
    "missing_col = ['skewness']\n",
    "for i in missing_col:\n",
    " dataset.loc[dataset.loc[:,i].isnull(),i]=dataset.loc[:,i].mean()\n",
    "missing_col = ['curtosis']\n",
    "for i in missing_col:\n",
    " dataset.loc[dataset.loc[:,i].isnull(),i]=dataset.loc[:,i].mean()\n",
    "missing_col = ['entropy']\n",
    "for i in missing_col:\n",
    " dataset.loc[dataset.loc[:,i].isnull(),i]=dataset.loc[:,i].mean() \n",
    "z1= dataset.isnull().sum()\n",
    "df = pd.DataFrame(dataset)\n",
    "# Converting the daataframe to numpy \n",
    "dataset =df.to_numpy()\n",
    "np.random.shuffle(dataset)\n",
    "le = dataset.shape[0] #finding the total number of columns \n",
    "w =[1,1,1,1]\n",
    "#converting 0s into -1s as the perceptron algo deals with the dataset with classes 1 and -1\n",
    "for i in range(0,le): \n",
    "    if dataset[i,-1] == 0:\n",
    "        dataset[i,-1] = -1\n",
    "\n",
    "\n",
    "#predicting the data\n",
    "#for predicting the data need to check if w.x is positive or negative \n",
    "# if its positive then the data belongs to +1 class or it is -1 \n",
    "def predict(x,w):\n",
    "    #finding the number of rows in the input\n",
    "    l = x.shape[0]\n",
    "    #initializing the ypred \n",
    "    ypred =np.zeros(l)\n",
    "    #checking if w.x is positive or negative \n",
    "    for i in range(0,l):\n",
    "        p = np.dot(w, x[i,:])\n",
    "        if p < 0:\n",
    "            ypred[i] = -1\n",
    "        elif p>=0:\n",
    "            ypred[i] = 1\n",
    "    return ypred \n"
   ]
  },
  {
   "cell_type": "code",
   "execution_count": 40,
   "metadata": {},
   "outputs": [],
   "source": [
    "#function for making the confusion matrix\n",
    "def confusion(a,p):\n",
    "    #finding the length of l\n",
    "    l = a.shape[0]\n",
    "    #initialize the value of m\n",
    "    m =np.zeros((2,2))\n",
    "    \n",
    "    for i in range(0,l):\n",
    "        if a[i] ==p[i]==-1:   # true positive\n",
    "            m[0,0] = m[0,0] +1\n",
    "        elif a[i] ==p[i]==1:   #true negative\n",
    "            m[1,1] = m[1,1] +1\n",
    "        elif a[i] ==1 and p[i]==-1:  #false negative\n",
    "            m[1,0] = m[1,0] +1   \n",
    "        elif a[i] ==-1 and p[i]==1:   #false positive\n",
    "            m[0,1] = m[0,1] +1  \n",
    "            \n",
    "    return m\n",
    "         "
   ]
  },
  {
   "cell_type": "markdown",
   "metadata": {},
   "source": [
    "Training the algorithm on the dataset using cross-validation and report cross-validated test set error\n"
   ]
  },
  {
   "cell_type": "markdown",
   "metadata": {},
   "source": [
    "To execute the cross validation the following algorithm is used:"
   ]
  },
  {
   "cell_type": "markdown",
   "metadata": {},
   "source": [
    "1. The entire dataset is divided into 20 equal sets"
   ]
  },
  {
   "cell_type": "code",
   "execution_count": 42,
   "metadata": {},
   "outputs": [
    {
     "data": {
      "text/plain": [
       "[<matplotlib.lines.Line2D at 0x17fe8a09880>]"
      ]
     },
     "execution_count": 42,
     "metadata": {},
     "output_type": "execute_result"
    },
    {
     "data": {
      "image/png": "[encoded data removed]",
      "text/plain": [
       "<Figure size 432x288 with 1 Axes>"
      ]
     },
     "metadata": {
      "needs_background": "light"
     },
     "output_type": "display_data"
    }
   ],
   "source": [
    "def crossvalidation(k):\n",
    "    \n",
    "    l = dataset.shape[0]\n",
    "    n =20\n",
    "    a= math.trunc((l/n))\n",
    "    predi = np.zeros(a)\n",
    "    accu = np.zeros(n)\n",
    "    # here p is used to make cross validation \n",
    "    for p in range(1,n+1):\n",
    "        # cross validation breaking a dataset of total rows into 20 equal parts and assigning 1 part for validation set for each iteration and\n",
    "        # finding the error\n",
    "        #breaking the dataset into features and y\n",
    "        testx = dataset[(p-1)*a: p*a, :-1]\n",
    "        testy = dataset[(p-1)*a: p*a,  -1]       \n",
    "        traind = np.delete(dataset, list(range((p-1)*a, p*a)), 0)       \n",
    "        weight = perceptron(traind,w,k)   #fiinding out the weight vector\n",
    "        predi = predict(testx,weight)     #finding out the predicted vector\n",
    "\n",
    "        conf = confusion(testy,predi)     #making the confusion matrix\n",
    "        #finding out the error percentage that is= (total no of wrongs )/ (total  no of dataset)        \n",
    "        accu[p-1] = (conf[0,1] + conf[1,0]) /( conf[0,0] + conf[1,0] + conf[0,1] + conf[1,1])  \n",
    "        \n",
    "        \n",
    "    ans = np.mean(accu)   #finding the mean of the errors\n",
    "        \n",
    "        \n",
    "    return ans\n",
    "\n",
    "#since the data is selected at random it is hard to find the correct value of the best fit of k(no if iterations) variable in the function\n",
    "#so we have used k for each run of the for loop and ran it through cross validation\n",
    "#each time the k goes to cross validation function the function finds error percentage for 20 test sets and gives mean \n",
    "# of the test sets. this can hellp in better understanding of the best fit of number of iterations\n",
    "\n",
    "cv = np.zeros(20)\n",
    "for i in range(0,20):\n",
    "    n= 50+ i*50\n",
    "    cv[i] = crossvalidation(n)   \n",
    "\n",
    "\n",
    "h =  list(range(50,1001,50))      \n",
    " \n",
    "plt.plot(h,cv,'k')     \n",
    "     "
   ]
  },
  {
   "cell_type": "markdown",
   "metadata": {},
   "source": [
    " from the above cross validation anaysis it is clear that 550 is the best value for no of iterations as the error is\n",
    " is minimum here and also if we increase the value even though it may be more accurate the runtime increases."
   ]
  },
  {
   "cell_type": "markdown",
   "metadata": {},
   "source": [
    "$$p = \\frac{TP}{TP+FP}$$"
   ]
  },
  {
   "cell_type": "markdown",
   "metadata": {},
   "source": [
    "$$r = \\frac{TP}{TP+FN}$$"
   ]
  },
  {
   "cell_type": "markdown",
   "metadata": {},
   "source": [
    "$$F_1 = \\frac{2pr}{p+r}$$"
   ]
  },
  {
   "cell_type": "code",
   "execution_count": 43,
   "metadata": {},
   "outputs": [],
   "source": [
    "#function for finding p, r and f1 values\n",
    "def f1(c):\n",
    "    p = (c[0,0])/(c[0,0] + c[1,0])     #finding the precision using confusion matrix\n",
    "    r = (c[0,0])/(c[0,0] + c[0,1])     #finding the recall using confusion matrix\n",
    "    \n",
    "    f = 2*p*r/(p+r)                    # finding f1 value using precision and recall\n",
    "    \n",
    "    return f"
   ]
  },
  {
   "cell_type": "markdown",
   "metadata": {},
   "source": [
    "Using a held out validation set and reporting F1 score on the held out set for your best\n",
    "model"
   ]
  },
  {
   "cell_type": "code",
   "execution_count": 44,
   "metadata": {},
   "outputs": [
    {
     "name": "stdout",
     "output_type": "stream",
     "text": [
      "0.9211356466876972\n"
     ]
    }
   ],
   "source": [
    "# held out validation set with 80-20 percentage of training and test data respectively and use 550 as the number of iterations\n",
    "traind = dataset[0: math.trunc(0.8*(le)),:]  # importing 80 percentage of the data from the total as training data\n",
    "testx = dataset[:math.trunc(0.2*(le))  ,:-1] # importing 20 percentage of the data from the total as test data\n",
    "testy = dataset[:math.trunc(0.2*(le))  ,-1]\n",
    "w =[1,1,1,1]                          # initializing the weight vector\n",
    "weightq1d = perceptron(traind,w,550)     #finding weight using perceptron algo\n",
    "predi = predict(testx,weightq1d)      #predicting values using predict function \n",
    "conf = confusion(testy,predi)     #finding confusion matrix \n",
    "\n",
    "print(f1(conf))   # finding f1 value"
   ]
  }
 ],
 "metadata": {
  "kernelspec": {
   "display_name": "Python 3 (ipykernel)",
   "language": "python",
   "name": "python3"
  },
  "language_info": {
   "codemirror_mode": {
    "name": "ipython",
    "version": 3
   },
   "file_extension": ".py",
   "mimetype": "text/x-python",
   "name": "python",
   "nbconvert_exporter": "python",
   "pygments_lexer": "ipython3",
   "version": "3.7.9"
  }
 },
 "nbformat": 4,
 "nbformat_minor": 4
}
